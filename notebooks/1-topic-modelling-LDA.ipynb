{
 "cells": [
  {
   "cell_type": "markdown",
   "metadata": {},
   "source": [
    "### This is based on the kaggle article : https://www.kaggle.com/ktattan/lda-and-document-similarity"
   ]
  },
  {
   "cell_type": "code",
   "execution_count": 59,
   "metadata": {},
   "outputs": [],
   "source": [
    "# import dependencies\n",
    "%matplotlib inline\n",
    "import pandas as pd\n",
    "import numpy as np\n",
    "import nltk\n",
    "from nltk.corpus import stopwords\n",
    "import gensim\n",
    "from gensim.models import LdaModel\n",
    "from gensim import models, corpora, similarities\n",
    "import re\n",
    "from nltk.stem.porter import PorterStemmer\n",
    "import time\n",
    "from nltk import FreqDist\n",
    "from scipy.stats import entropy\n",
    "from scipy.special import rel_entr, kl_div\n",
    "import matplotlib.pyplot as plt\n",
    "import seaborn as sns\n",
    "sns.set_style(\"darkgrid\")"
   ]
  },
  {
   "cell_type": "code",
   "execution_count": 2,
   "metadata": {},
   "outputs": [],
   "source": [
    "# Load the processed file \n",
    "file_path = '../processed-data/processed_file.csv'\n",
    "df = pd.read_csv( file_path)"
   ]
  },
  {
   "cell_type": "code",
   "execution_count": 3,
   "metadata": {},
   "outputs": [
    {
     "data": {
      "text/html": [
       "<div>\n",
       "<style scoped>\n",
       "    .dataframe tbody tr th:only-of-type {\n",
       "        vertical-align: middle;\n",
       "    }\n",
       "\n",
       "    .dataframe tbody tr th {\n",
       "        vertical-align: top;\n",
       "    }\n",
       "\n",
       "    .dataframe thead th {\n",
       "        text-align: right;\n",
       "    }\n",
       "</style>\n",
       "<table border=\"1\" class=\"dataframe\">\n",
       "  <thead>\n",
       "    <tr style=\"text-align: right;\">\n",
       "      <th></th>\n",
       "      <th>Unnamed: 0</th>\n",
       "      <th>cord_uid</th>\n",
       "      <th>title</th>\n",
       "      <th>abstract</th>\n",
       "      <th>pdf_abstract_text</th>\n",
       "      <th>pdf_body_text</th>\n",
       "      <th>pmc_abstract_text</th>\n",
       "      <th>pmc_body_text</th>\n",
       "    </tr>\n",
       "  </thead>\n",
       "  <tbody>\n",
       "    <tr>\n",
       "      <th>0</th>\n",
       "      <td>0</td>\n",
       "      <td>ug7v899j</td>\n",
       "      <td>Clinical features of culture-proven Mycoplasma...</td>\n",
       "      <td>OBJECTIVE: This retrospective chart review des...</td>\n",
       "      <td>Objective: This retrospective chart review des...</td>\n",
       "      <td>Mycoplasma pneumoniae is a common cause of upp...</td>\n",
       "      <td>NaN</td>\n",
       "      <td>Mycoplasma pneumoniae is a common cause of upp...</td>\n",
       "    </tr>\n",
       "    <tr>\n",
       "      <th>1</th>\n",
       "      <td>1</td>\n",
       "      <td>02tnwd4m</td>\n",
       "      <td>Nitric oxide: a pro-inflammatory mediator in l...</td>\n",
       "      <td>Inflammatory diseases of the respiratory tract...</td>\n",
       "      <td>Inflammatory diseases of the respiratory tract...</td>\n",
       "      <td>Since its discovery as a biological messenger ...</td>\n",
       "      <td>NaN</td>\n",
       "      <td>Since its discovery as a biological messenger ...</td>\n",
       "    </tr>\n",
       "    <tr>\n",
       "      <th>2</th>\n",
       "      <td>2</td>\n",
       "      <td>ejv2xln0</td>\n",
       "      <td>Surfactant protein-D and pulmonary host defense</td>\n",
       "      <td>Surfactant protein-D (SP-D) participates in th...</td>\n",
       "      <td>Surfactant protein-D (SP-D) participates in th...</td>\n",
       "      <td>Surfactant protein-D (SP-D) is a member of the...</td>\n",
       "      <td>NaN</td>\n",
       "      <td>Surfactant protein-D (SP-D) is a member of the...</td>\n",
       "    </tr>\n",
       "    <tr>\n",
       "      <th>3</th>\n",
       "      <td>3</td>\n",
       "      <td>2b73a28n</td>\n",
       "      <td>Role of endothelin-1 in lung disease</td>\n",
       "      <td>Endothelin-1 (ET-1) is a 21 amino acid peptide...</td>\n",
       "      <td>ARDS = acute respiratory distress syndrome; BA...</td>\n",
       "      <td>from Xenopus laevis [16] . ETA receptors in no...</td>\n",
       "      <td>NaN</td>\n",
       "      <td>ET-1, ET-2, and ET-3 are members of a peptide ...</td>\n",
       "    </tr>\n",
       "    <tr>\n",
       "      <th>4</th>\n",
       "      <td>4</td>\n",
       "      <td>9785vg6d</td>\n",
       "      <td>Gene expression in epithelial cells in respons...</td>\n",
       "      <td>Respiratory syncytial virus (RSV) and pneumoni...</td>\n",
       "      <td>commentary review reports primary research CCR...</td>\n",
       "      <td>RSV and PVM are viruses of the family Paramyxo...</td>\n",
       "      <td>NaN</td>\n",
       "      <td>RSV and PVM are viruses of the family Paramyxo...</td>\n",
       "    </tr>\n",
       "  </tbody>\n",
       "</table>\n",
       "</div>"
      ],
      "text/plain": [
       "   Unnamed: 0  cord_uid                                              title  \\\n",
       "0           0  ug7v899j  Clinical features of culture-proven Mycoplasma...   \n",
       "1           1  02tnwd4m  Nitric oxide: a pro-inflammatory mediator in l...   \n",
       "2           2  ejv2xln0    Surfactant protein-D and pulmonary host defense   \n",
       "3           3  2b73a28n               Role of endothelin-1 in lung disease   \n",
       "4           4  9785vg6d  Gene expression in epithelial cells in respons...   \n",
       "\n",
       "                                            abstract  \\\n",
       "0  OBJECTIVE: This retrospective chart review des...   \n",
       "1  Inflammatory diseases of the respiratory tract...   \n",
       "2  Surfactant protein-D (SP-D) participates in th...   \n",
       "3  Endothelin-1 (ET-1) is a 21 amino acid peptide...   \n",
       "4  Respiratory syncytial virus (RSV) and pneumoni...   \n",
       "\n",
       "                                   pdf_abstract_text  \\\n",
       "0  Objective: This retrospective chart review des...   \n",
       "1  Inflammatory diseases of the respiratory tract...   \n",
       "2  Surfactant protein-D (SP-D) participates in th...   \n",
       "3  ARDS = acute respiratory distress syndrome; BA...   \n",
       "4  commentary review reports primary research CCR...   \n",
       "\n",
       "                                       pdf_body_text  pmc_abstract_text  \\\n",
       "0  Mycoplasma pneumoniae is a common cause of upp...                NaN   \n",
       "1  Since its discovery as a biological messenger ...                NaN   \n",
       "2  Surfactant protein-D (SP-D) is a member of the...                NaN   \n",
       "3  from Xenopus laevis [16] . ETA receptors in no...                NaN   \n",
       "4  RSV and PVM are viruses of the family Paramyxo...                NaN   \n",
       "\n",
       "                                       pmc_body_text  \n",
       "0  Mycoplasma pneumoniae is a common cause of upp...  \n",
       "1  Since its discovery as a biological messenger ...  \n",
       "2  Surfactant protein-D (SP-D) is a member of the...  \n",
       "3  ET-1, ET-2, and ET-3 are members of a peptide ...  \n",
       "4  RSV and PVM are viruses of the family Paramyxo...  "
      ]
     },
     "execution_count": 3,
     "metadata": {},
     "output_type": "execute_result"
    }
   ],
   "source": [
    "df.head()"
   ]
  },
  {
   "cell_type": "code",
   "execution_count": 4,
   "metadata": {},
   "outputs": [],
   "source": [
    "# Merge some columns\n",
    "\n",
    "\n",
    "# drop rows for which title columns are null\n",
    "df.dropna(inplace=True, subset=['title'])\n",
    "# drop a row if all the abstract and body columns are nan\n",
    "df.dropna(inplace=True, subset=['abstract','pdf_abstract_text', 'pmc_abstract_text'  ], how='all')\n",
    "\n",
    "# We still need to fill all NAN with '', because one of the abstract texts or body  might be NAN and adding makes it NAN\n",
    "df.fillna('', inplace=True) \n",
    "\n",
    "df['abstract'] = df['abstract'] + df['pdf_abstract_text'] + df['pmc_abstract_text']\n",
    "df['body'] = df['pdf_body_text'] + df['pmc_body_text']\n",
    "\n",
    "\n",
    "df['text'] = df['abstract'] + df['body']"
   ]
  },
  {
   "cell_type": "code",
   "execution_count": 5,
   "metadata": {},
   "outputs": [],
   "source": [
    "# subset of columns and shuffle the data\n",
    "df_new = df[['cord_uid','title', 'text']]\n",
    "df_new = df_new.sample(frac=1.0)\n",
    "df_new.reset_index(drop=True,inplace=True)\n",
    "\n"
   ]
  },
  {
   "cell_type": "code",
   "execution_count": 6,
   "metadata": {
    "scrolled": true
   },
   "outputs": [],
   "source": [
    "df_new = df_new.head(10000)"
   ]
  },
  {
   "cell_type": "code",
   "execution_count": 9,
   "metadata": {},
   "outputs": [
    {
     "name": "stdout",
     "output_type": "stream",
     "text": [
      "10000\n"
     ]
    }
   ],
   "source": [
    "print(len(df_new))"
   ]
  },
  {
   "cell_type": "code",
   "execution_count": 8,
   "metadata": {},
   "outputs": [
    {
     "name": "stdout",
     "output_type": "stream",
     "text": [
      "showing info https://raw.githubusercontent.com/nltk/nltk_data/gh-pages/index.xml\n"
     ]
    },
    {
     "data": {
      "text/plain": [
       "True"
      ]
     },
     "execution_count": 8,
     "metadata": {},
     "output_type": "execute_result"
    }
   ],
   "source": [
    "import nltk\n",
    "nltk.download()"
   ]
  },
  {
   "cell_type": "code",
   "execution_count": 10,
   "metadata": {},
   "outputs": [],
   "source": [
    "def initial_clean(text):\n",
    "    \"\"\"\n",
    "    Function to clean text of websites, email addresess and any punctuation\n",
    "    We also lower case the text\n",
    "    \"\"\"\n",
    "    text = re.sub(\"((\\S+)?(http(s)?)(\\S+))|((\\S+)?(www)(\\S+))|((\\S+)?(\\@)(\\S+)?)\", \" \", text)\n",
    "    text = re.sub(\"[^a-zA-Z ]\", \"\", text)\n",
    "    text = text.lower() # lower case the text\n",
    "    text = nltk.word_tokenize(text)\n",
    "    return text\n",
    "\n",
    "stop_words = stopwords.words('english')\n",
    "def remove_stop_words(text):\n",
    "    \"\"\"\n",
    "    Function that removes all stopwords from text\n",
    "    \"\"\"\n",
    "    return [word for word in text if word not in stop_words]\n",
    "\n",
    "stemmer = PorterStemmer()\n",
    "def stem_words(text):\n",
    "    \"\"\"\n",
    "    Function to stem words, so plural and singular are treated the same\n",
    "    \"\"\"\n",
    "    try:\n",
    "        text = [stemmer.stem(word) for word in text]\n",
    "        text = [word for word in text if len(word) > 1] # make sure we have no 1 letter words\n",
    "    except IndexError: # the word \"oed\" broke this, so needed try except\n",
    "        pass\n",
    "    return text\n",
    "\n",
    "def apply_all(text):\n",
    "    \"\"\"\n",
    "    This function applies all the functions above into one\n",
    "    \"\"\"\n",
    "    return stem_words(remove_stop_words(initial_clean(text)))"
   ]
  },
  {
   "cell_type": "code",
   "execution_count": 11,
   "metadata": {},
   "outputs": [
    {
     "name": "stdout",
     "output_type": "stream",
     "text": [
      "Time to clean and tokenize 10000 articles: 21.47019906838735 min\n"
     ]
    }
   ],
   "source": [
    "# clean text and title and create new column \"tokenized\"\n",
    "t1 = time.time()\n",
    "df_new['tokenized'] = df_new['title'].apply(apply_all) + df_new['text'].apply(apply_all)\n",
    "t2 = time.time()\n",
    "print(\"Time to clean and tokenize\", len(df_new), \"articles:\", (t2-t1)/60, \"min\")"
   ]
  },
  {
   "cell_type": "code",
   "execution_count": 12,
   "metadata": {},
   "outputs": [
    {
     "data": {
      "text/plain": [
       "344153"
      ]
     },
     "execution_count": 12,
     "metadata": {},
     "output_type": "execute_result"
    }
   ],
   "source": [
    "# first get a list of all words\n",
    "all_words = [word for item in list(df_new['tokenized']) for word in item]\n",
    "# use nltk fdist to get a frequency distribution of all words\n",
    "fdist = FreqDist(all_words)\n",
    "len(fdist) # number of unique words"
   ]
  },
  {
   "cell_type": "code",
   "execution_count": 13,
   "metadata": {},
   "outputs": [
    {
     "data": {
      "text/plain": [
       "[('radiotelemetri', 11),\n",
       " ('reit', 11),\n",
       " ('batten', 11),\n",
       " ('jewelri', 11),\n",
       " ('ktx', 11),\n",
       " ('antigbm', 11),\n",
       " ('requirementgath', 11),\n",
       " ('postconcept', 11),\n",
       " ('catherin', 11),\n",
       " ('ahrf', 11)]"
      ]
     },
     "execution_count": 13,
     "metadata": {},
     "output_type": "execute_result"
    }
   ],
   "source": [
    "# choose k and visually inspect the bottom 10 words of the top k\n",
    "k = 50000\n",
    "top_k_words = fdist.most_common(k)\n",
    "top_k_words[-10:]"
   ]
  },
  {
   "cell_type": "code",
   "execution_count": 14,
   "metadata": {},
   "outputs": [
    {
     "data": {
      "text/plain": [
       "[('seminest', 73),\n",
       " ('cellen', 73),\n",
       " ('lpv', 73),\n",
       " ('ppl', 73),\n",
       " ('silvestrol', 73),\n",
       " ('beginarrayl', 73),\n",
       " ('weanl', 73),\n",
       " ('basv', 73),\n",
       " ('pathotyp', 73),\n",
       " ('psmb', 73)]"
      ]
     },
     "execution_count": 14,
     "metadata": {},
     "output_type": "execute_result"
    }
   ],
   "source": [
    "# choose k and visually inspect the bottom 10 words of the top k\n",
    "k = 15000\n",
    "top_k_words = fdist.most_common(k)\n",
    "top_k_words[-10:]"
   ]
  },
  {
   "cell_type": "code",
   "execution_count": 15,
   "metadata": {},
   "outputs": [],
   "source": [
    "# define a function only to keep words in the top k words\n",
    "top_k_words,_ = zip(*fdist.most_common(k))\n",
    "top_k_words = set(top_k_words)\n",
    "def keep_top_k_words(text):\n",
    "    return [word for word in text if word in top_k_words]"
   ]
  },
  {
   "cell_type": "code",
   "execution_count": 16,
   "metadata": {},
   "outputs": [],
   "source": [
    "df_new['tokenized'] = df_new['tokenized'].apply(keep_top_k_words)"
   ]
  },
  {
   "cell_type": "code",
   "execution_count": 17,
   "metadata": {},
   "outputs": [
    {
     "name": "stdout",
     "output_type": "stream",
     "text": [
      "length of list: 10000 \n",
      "average document length 2175.0373 \n",
      "minimum document length 2 \n",
      "maximum document length 122101\n"
     ]
    }
   ],
   "source": [
    "# document length\n",
    "df_new['doc_len'] = df_new['tokenized'].apply(lambda x: len(x))\n",
    "doc_lengths = list(df_new['doc_len'])\n",
    "df_new.drop(labels='doc_len', axis=1, inplace=True)\n",
    "\n",
    "print(\"length of list:\",len(doc_lengths),\n",
    "      \"\\naverage document length\", np.average(doc_lengths),\n",
    "      \"\\nminimum document length\", min(doc_lengths),\n",
    "      \"\\nmaximum document length\", max(doc_lengths))"
   ]
  },
  {
   "cell_type": "code",
   "execution_count": 18,
   "metadata": {},
   "outputs": [
    {
     "name": "stderr",
     "output_type": "stream",
     "text": [
      "C:\\Software\\miniconda3\\envs\\nlp-conda-py37\\lib\\site-packages\\ipykernel_launcher.py:5: MatplotlibDeprecationWarning: \n",
      "The 'normed' kwarg was deprecated in Matplotlib 2.1 and will be removed in 3.1. Use 'density' instead.\n",
      "  \"\"\"\n"
     ]
    },
    {
     "data": {
      "image/png": "[encoded data removed]",
      "text/plain": [
       "<Figure size 864x432 with 1 Axes>"
      ]
     },
     "metadata": {},
     "output_type": "display_data"
    }
   ],
   "source": [
    "# plot a histogram of document length\n",
    "num_bins = 1000\n",
    "fig, ax = plt.subplots(figsize=(12,6));\n",
    "# the histogram of the data\n",
    "n, bins, patches = ax.hist(doc_lengths, num_bins, normed=1)\n",
    "ax.set_xlabel('Document Length (tokens)', fontsize=15)\n",
    "ax.set_ylabel('Normed Frequency', fontsize=15)\n",
    "ax.grid()\n",
    "ax.set_xticks(np.logspace(start=np.log10(50),stop=np.log10(2000),num=8, base=10.0))\n",
    "plt.xlim(0,2000)\n",
    "ax.plot([np.average(doc_lengths) for i in np.linspace(0.0,0.0035,100)], np.linspace(0.0,0.0035,100), '-',\n",
    "        label='average doc length')\n",
    "ax.legend()\n",
    "ax.grid()\n",
    "fig.tight_layout()\n",
    "plt.show()"
   ]
  },
  {
   "cell_type": "markdown",
   "metadata": {},
   "source": [
    "## Drop short articles"
   ]
  },
  {
   "cell_type": "code",
   "execution_count": 20,
   "metadata": {},
   "outputs": [
    {
     "name": "stdout",
     "output_type": "stream",
     "text": [
      "After cleaning and excluding short aticles, the dataframe now has: 9757 articles\n"
     ]
    }
   ],
   "source": [
    "#only keep articles with more than 30 tokens, otherwise too short\n",
    "df_new = df_new[df_new['tokenized'].map(len) >= 40]\n",
    "# make sure all tokenized items are lists\n",
    "df_new = df_new[df_new['tokenized'].map(type) == list]\n",
    "df_new.reset_index(drop=True,inplace=True)\n",
    "print(\"After cleaning and excluding short aticles, the dataframe now has:\", len(df_new), \"articles\")"
   ]
  },
  {
   "cell_type": "markdown",
   "metadata": {},
   "source": [
    "### Split the corpus into training and testing"
   ]
  },
  {
   "cell_type": "code",
   "execution_count": 21,
   "metadata": {},
   "outputs": [],
   "source": [
    "msk = np.random.rand(len(df_new)) < 0.999\n",
    "\n",
    "train_df = df_new[msk]\n",
    "train_df.reset_index(drop=True,inplace=True)\n",
    "\n",
    "test_df = df_new[~msk]\n",
    "test_df.reset_index(drop=True,inplace=True)"
   ]
  },
  {
   "cell_type": "code",
   "execution_count": 22,
   "metadata": {},
   "outputs": [
    {
     "name": "stdout",
     "output_type": "stream",
     "text": [
      "9757 9750 7\n"
     ]
    }
   ],
   "source": [
    "print(len(df_new),len(train_df),len(test_df))"
   ]
  },
  {
   "cell_type": "markdown",
   "metadata": {},
   "source": [
    "## LDA"
   ]
  },
  {
   "cell_type": "code",
   "execution_count": 23,
   "metadata": {},
   "outputs": [],
   "source": [
    "def train_lda(data):\n",
    "    \"\"\"\n",
    "    This function trains the lda model\n",
    "    We setup parameters like number of topics, the chunksize to use in Hoffman method\n",
    "    We also do 2 passes of the data since this is a small dataset, so we want the distributions to stabilize\n",
    "    \"\"\"\n",
    "    num_topics = 100\n",
    "    chunksize = 300\n",
    "    dictionary = corpora.Dictionary(data['tokenized'])\n",
    "    corpus = [dictionary.doc2bow(doc) for doc in data['tokenized']]\n",
    "    t1 = time.time()\n",
    "    # low alpha means each document is only represented by a small number of topics, and vice versa\n",
    "    # low eta means each topic is only represented by a small number of words, and vice versa\n",
    "    lda = LdaModel(corpus=corpus, num_topics=num_topics, id2word=dictionary,\n",
    "                   alpha=1e-2, eta=0.5e-2, chunksize=chunksize, minimum_probability=0.0, passes=2)\n",
    "    t2 = time.time()\n",
    "    print(\"Time to train LDA model on \", len(df_new), \"articles: \", (t2-t1)/60, \"min\")\n",
    "    return dictionary,corpus,lda"
   ]
  },
  {
   "cell_type": "code",
   "execution_count": 24,
   "metadata": {},
   "outputs": [
    {
     "name": "stdout",
     "output_type": "stream",
     "text": [
      "Time to train LDA model on  9757 articles:  1.9707385778427124 min\n"
     ]
    }
   ],
   "source": [
    "dictionary,corpus,lda = train_lda(train_df)"
   ]
  },
  {
   "cell_type": "code",
   "execution_count": 25,
   "metadata": {},
   "outputs": [
    {
     "data": {
      "text/plain": [
       "[(26,\n",
       "  '0.100*\"bat\" + 0.057*\"human\" + 0.043*\"transmiss\" + 0.023*\"cov\" + 0.020*\"viru\" + 0.017*\"speci\" + 0.017*\"virus\" + 0.017*\"hcw\" + 0.016*\"reservoir\" + 0.016*\"rabi\" + 0.015*\"infect\" + 0.013*\"detect\" + 0.013*\"hcov\" + 0.011*\"zoonot\" + 0.011*\"outbreak\" + 0.011*\"studi\" + 0.011*\"ebola\" + 0.010*\"host\" + 0.010*\"contact\" + 0.009*\"identifi\"'),\n",
       " (41,\n",
       "  '0.022*\"air\" + 0.018*\"temperatur\" + 0.016*\"use\" + 0.015*\"mask\" + 0.012*\"particl\" + 0.012*\"aerosol\" + 0.010*\"room\" + 0.010*\"droplet\" + 0.008*\"water\" + 0.008*\"protect\" + 0.008*\"concentr\" + 0.008*\"bioaerosol\" + 0.008*\"wast\" + 0.007*\"transmiss\" + 0.007*\"clean\" + 0.007*\"environ\" + 0.007*\"contamin\" + 0.007*\"equip\" + 0.007*\"hand\" + 0.007*\"measur\"'),\n",
       " (16,\n",
       "  '0.070*\"women\" + 0.061*\"pregnanc\" + 0.040*\"neonat\" + 0.038*\"birth\" + 0.038*\"pregnant\" + 0.036*\"matern\" + 0.030*\"fetal\" + 0.023*\"deliveri\" + 0.022*\"mother\" + 0.021*\"preterm\" + 0.020*\"infant\" + 0.020*\"gestat\" + 0.016*\"week\" + 0.015*\"placenta\" + 0.014*\"placent\" + 0.013*\"babi\" + 0.012*\"newborn\" + 0.011*\"trimest\" + 0.011*\"congenit\" + 0.011*\"risk\"'),\n",
       " (2,\n",
       "  '0.142*\"treatment\" + 0.056*\"effect\" + 0.053*\"dose\" + 0.036*\"treat\" + 0.034*\"day\" + 0.026*\"oral\" + 0.022*\"mg\" + 0.020*\"administr\" + 0.017*\"receiv\" + 0.015*\"use\" + 0.014*\"mgkg\" + 0.014*\"administ\" + 0.014*\"given\" + 0.013*\"reduc\" + 0.013*\"studi\" + 0.012*\"drug\" + 0.012*\"combin\" + 0.011*\"efficaci\" + 0.011*\"ribavirin\" + 0.011*\"week\"'),\n",
       " (3,\n",
       "  '0.059*\"pig\" + 0.054*\"prrsv\" + 0.040*\"viru\" + 0.032*\"porcin\" + 0.028*\"tgev\" + 0.026*\"pedv\" + 0.023*\"infect\" + 0.021*\"coronaviru\" + 0.018*\"pdcov\" + 0.018*\"inocul\" + 0.017*\"swine\" + 0.014*\"dpi\" + 0.011*\"use\" + 0.011*\"coronavirus\" + 0.008*\"marc\" + 0.007*\"respiratori\" + 0.007*\"detect\" + 0.007*\"pam\" + 0.007*\"nc\" + 0.007*\"studi\"'),\n",
       " (32,\n",
       "  '0.082*\"virus\" + 0.065*\"viru\" + 0.062*\"viral\" + 0.032*\"genom\" + 0.021*\"dna\" + 0.017*\"rna\" + 0.015*\"sequenc\" + 0.014*\"famili\" + 0.012*\"capsid\" + 0.012*\"host\" + 0.011*\"replic\" + 0.010*\"use\" + 0.009*\"read\" + 0.007*\"particl\" + 0.006*\"known\" + 0.006*\"virion\" + 0.006*\"detect\" + 0.006*\"fmdv\" + 0.006*\"phage\" + 0.006*\"sampl\"'),\n",
       " (1,\n",
       "  '0.101*\"cell\" + 0.035*\"immun\" + 0.033*\"cd\" + 0.030*\"infect\" + 0.030*\"respons\" + 0.010*\"receptor\" + 0.010*\"dc\" + 0.009*\"activ\" + 0.009*\"antigen\" + 0.008*\"also\" + 0.008*\"lymphocyt\" + 0.007*\"function\" + 0.007*\"express\" + 0.007*\"viru\" + 0.006*\"viral\" + 0.006*\"mice\" + 0.006*\"type\" + 0.006*\"host\" + 0.006*\"may\" + 0.006*\"human\"'),\n",
       " (8,\n",
       "  '0.121*\"antibodi\" + 0.050*\"igg\" + 0.041*\"mab\" + 0.037*\"neutral\" + 0.031*\"serum\" + 0.019*\"titer\" + 0.016*\"human\" + 0.015*\"elisa\" + 0.014*\"use\" + 0.012*\"immun\" + 0.012*\"antigen\" + 0.011*\"sera\" + 0.011*\"iga\" + 0.011*\"assay\" + 0.010*\"monoclon\" + 0.009*\"detect\" + 0.008*\"respons\" + 0.008*\"viru\" + 0.008*\"fc\" + 0.008*\"dilut\"'),\n",
       " (84,\n",
       "  '0.026*\"case\" + 0.023*\"diseas\" + 0.020*\"patient\" + 0.014*\"clinic\" + 0.013*\"present\" + 0.013*\"symptom\" + 0.012*\"diagnosi\" + 0.011*\"report\" + 0.011*\"pneumonia\" + 0.010*\"caus\" + 0.009*\"infect\" + 0.009*\"lesion\" + 0.009*\"fever\" + 0.009*\"may\" + 0.009*\"sever\" + 0.009*\"syndrom\" + 0.008*\"imag\" + 0.007*\"chest\" + 0.007*\"acut\" + 0.007*\"show\"'),\n",
       " (76,\n",
       "  '0.045*\"use\" + 0.022*\"method\" + 0.020*\"predict\" + 0.016*\"perform\" + 0.013*\"score\" + 0.013*\"set\" + 0.013*\"data\" + 0.010*\"base\" + 0.010*\"valu\" + 0.010*\"sampl\" + 0.010*\"valid\" + 0.009*\"select\" + 0.009*\"analysi\" + 0.009*\"tabl\" + 0.008*\"differ\" + 0.008*\"result\" + 0.008*\"identifi\" + 0.007*\"refer\" + 0.007*\"featur\" + 0.007*\"number\"')]"
      ]
     },
     "execution_count": 25,
     "metadata": {},
     "output_type": "execute_result"
    }
   ],
   "source": [
    "# show_topics method shows the the top num_words contributing to num_topics number of random topics\n",
    "lda.show_topics(num_topics=10, num_words=20)"
   ]
  },
  {
   "cell_type": "code",
   "execution_count": 26,
   "metadata": {},
   "outputs": [
    {
     "data": {
      "text/plain": [
       "[('residu', 0.047229905),\n",
       " ('site', 0.040244494),\n",
       " ('acid', 0.037930567),\n",
       " ('amino', 0.0288174),\n",
       " ('activ', 0.024526961),\n",
       " ('cleavag', 0.022744553),\n",
       " ('fig', 0.020688724),\n",
       " ('substrat', 0.019287009),\n",
       " ('domain', 0.014636346),\n",
       " ('enzym', 0.014122783),\n",
       " ('posit', 0.013465604),\n",
       " ('ace', 0.011763569),\n",
       " ('pro', 0.011732952),\n",
       " ('ii', 0.010834131),\n",
       " ('ang', 0.009734285),\n",
       " ('bind', 0.007928009),\n",
       " ('protein', 0.007814674),\n",
       " ('ntermin', 0.0076972498),\n",
       " ('peptid', 0.0076149246),\n",
       " ('receptor', 0.0074201575)]"
      ]
     },
     "execution_count": 26,
     "metadata": {},
     "output_type": "execute_result"
    }
   ],
   "source": [
    "lda.show_topic(topicid=4, topn=20)"
   ]
  },
  {
   "cell_type": "code",
   "execution_count": 29,
   "metadata": {},
   "outputs": [
    {
     "name": "stdout",
     "output_type": "stream",
     "text": [
      "9236\n"
     ]
    }
   ],
   "source": [
    "# select and article at random from train_df\n",
    "random_article_index = np.random.randint(len(train_df))\n",
    "bow = dictionary.doc2bow(train_df.iloc[random_article_index,3])\n",
    "print(random_article_index)"
   ]
  },
  {
   "cell_type": "code",
   "execution_count": 30,
   "metadata": {},
   "outputs": [
    {
     "name": "stdout",
     "output_type": "stream",
     "text": [
      "['evalu', 'minim', 'invas', 'surgeri', 'new', 'platform', 'surgeri', 'purpos', 'studi', 'aim', 'evalu', 'feasibl', 'safeti', 'new', 'minim', 'invas', 'surgeri', 'platform', 'treat', 'rectal', 'lesion', 'method', 'first', 'compar', 'two', 'minim', 'invas', 'surgeri', 'platform', 'sil', 'port', 'path', 'human', 'cadav', 'surgeon', 'differ', 'experi', 'perform', 'run', 'sutur', 'differ', 'distanc', 'four', 'quadrant', 'use', 'three', 'platform', 'gave', 'score', 'visibl', 'safeti', 'util', 'patient', 'affect', 'rectal', 'neoplasia', 'met', 'inclus', 'criteria', 'patient', 'tumor', 'characterist', 'result', 'prospect', 'collect', 'followup', 'examin', 'includ', 'month', 'result', 'accord', 'surgeon', 'score', 'improv', 'visibl', 'safeti', 'respect', 'platform', 'distanc', 'beyond', 'cm', 'procedur', 'last', 'averag', 'min', 'success', 'carri', 'patient', 'intraop', 'postop', 'complic', 'report', 'mean', 'tumor', 'size', 'cm', 'locat', 'mean', 'cm', 'anal', 'complet', 'remov', 'lesion', 'possibl', 'patient', 'one', 'case', 'adenoma', 'recurr', 'followup', 'conclus', 'studi', 'result', 'show', 'equip', 'adjust', 'consid', 'safe', 'effect', 'platform', 'surgeri', 'protect', 'rectum', 'procedur', 'particularli', 'import', 'consider', 'proxim', 'rectal', 'lesion', 'treat', 'clinic', 'studi', 'warrant', 'confirm', 'encourag', 'result']\n"
     ]
    }
   ],
   "source": [
    "print(train_df.iloc[random_article_index,3])"
   ]
  },
  {
   "cell_type": "code",
   "execution_count": 31,
   "metadata": {},
   "outputs": [],
   "source": [
    "# get the topic contributions for the document chosen at random above\n",
    "doc_distribution = np.array([tup[1] for tup in lda.get_document_topics(bow=bow)])"
   ]
  },
  {
   "cell_type": "code",
   "execution_count": 32,
   "metadata": {},
   "outputs": [
    {
     "data": {
      "image/png": "[encoded data removed]",
      "text/plain": [
       "<Figure size 864x432 with 1 Axes>"
      ]
     },
     "metadata": {},
     "output_type": "display_data"
    }
   ],
   "source": [
    "# bar plot of topic distribution for this document\n",
    "fig, ax = plt.subplots(figsize=(12,6));\n",
    "# the histogram of the data\n",
    "patches = ax.bar(np.arange(len(doc_distribution)), doc_distribution)\n",
    "ax.set_xlabel('Topic ID', fontsize=15)\n",
    "ax.set_ylabel('Topic Contribution', fontsize=15)\n",
    "ax.set_title(\"Topic Distribution for Article \" + str(random_article_index), fontsize=20)\n",
    "ax.set_xticks(np.linspace(10,100,10))\n",
    "fig.tight_layout()\n",
    "plt.show()"
   ]
  },
  {
   "cell_type": "code",
   "execution_count": 33,
   "metadata": {},
   "outputs": [
    {
     "name": "stdout",
     "output_type": "stream",
     "text": [
      "25 [('patient', 0.0337909), ('surgeri', 0.019093245), ('use', 0.015294768), ('surgic', 0.013764391), ('perform', 0.0129418615), ('procedur', 0.012248977), ('result', 0.010099537), ('complic', 0.009949503), ('conclus', 0.009454769), ('postop', 0.008467226)] \n",
      "\n",
      "74 [('data', 0.061395824), ('inform', 0.026121829), ('system', 0.024620092), ('use', 0.023559304), ('surveil', 0.014581), ('provid', 0.014226834), ('diseas', 0.013410454), ('user', 0.009619772), ('identifi', 0.008976487), ('includ', 0.0080997)] \n",
      "\n",
      "70 [('studi', 0.06270456), ('review', 0.030583719), ('use', 0.017010998), ('includ', 0.015172953), ('literatur', 0.013266579), ('effect', 0.0120062195), ('evid', 0.011698395), ('systemat', 0.011385298), ('search', 0.010870987), ('assess', 0.009832612)] \n",
      "\n",
      "35 [('compound', 0.038085885), ('activ', 0.03596368), ('hz', 0.03011276), ('ch', 0.01792978), ('nmr', 0.0154499775), ('ic', 0.01327254), ('deriv', 0.01260004), ('acid', 0.011741188), ('yield', 0.010378935), ('valu', 0.010046996)] \n",
      "\n",
      "61 [('trial', 0.03514122), ('clinic', 0.034838744), ('product', 0.028433261), ('safeti', 0.022359392), ('phase', 0.021886138), ('cost', 0.01580723), ('use', 0.01314785), ('evalu', 0.012209275), ('studi', 0.011725605), ('placebo', 0.011168893)] \n",
      "\n"
     ]
    }
   ],
   "source": [
    "# print the top 5 contributing topics and their words\n",
    "for i in doc_distribution.argsort()[-5:][::-1]:\n",
    "    print(i, lda.show_topic(topicid=i, topn=10), \"\\n\")"
   ]
  },
  {
   "cell_type": "markdown",
   "metadata": {},
   "source": [
    "## Similarity Queries and unseen data"
   ]
  },
  {
   "cell_type": "code",
   "execution_count": 34,
   "metadata": {},
   "outputs": [
    {
     "name": "stdout",
     "output_type": "stream",
     "text": [
      "4\n"
     ]
    }
   ],
   "source": [
    "# select and article at random from test_df\n",
    "random_article_index = np.random.randint(len(test_df))\n",
    "print(random_article_index)"
   ]
  },
  {
   "cell_type": "code",
   "execution_count": 35,
   "metadata": {},
   "outputs": [],
   "source": [
    "new_bow = dictionary.doc2bow(test_df.iloc[random_article_index,3])"
   ]
  },
  {
   "cell_type": "code",
   "execution_count": 36,
   "metadata": {},
   "outputs": [],
   "source": [
    "new_doc_distribution = np.array([tup[1] for tup in lda.get_document_topics(bow=new_bow)])"
   ]
  },
  {
   "cell_type": "code",
   "execution_count": 37,
   "metadata": {},
   "outputs": [
    {
     "data": {
      "image/png": "[encoded data removed]",
      "text/plain": [
       "<Figure size 864x432 with 1 Axes>"
      ]
     },
     "metadata": {},
     "output_type": "display_data"
    }
   ],
   "source": [
    "fig, ax = plt.subplots(figsize=(12,6));\n",
    "# the histogram of the data\n",
    "patches = ax.bar(np.arange(len(new_doc_distribution)), new_doc_distribution)\n",
    "ax.set_xlabel('Topic ID', fontsize=15)\n",
    "ax.set_ylabel('Topic Contribution', fontsize=15)\n",
    "ax.set_title(\"Topic Distribution for an Unseen Article\", fontsize=20)\n",
    "ax.set_xticks(np.linspace(10,100,10))\n",
    "fig.tight_layout()\n",
    "plt.show()"
   ]
  },
  {
   "cell_type": "code",
   "execution_count": 38,
   "metadata": {},
   "outputs": [
    {
     "name": "stdout",
     "output_type": "stream",
     "text": [
      "33 [('protein', 0.064757295), ('membran', 0.026693834), ('cell', 0.017529856), ('interact', 0.010420918), ('domain', 0.01003018), ('fusion', 0.009449606), ('golgi', 0.009179562), ('cytoplasm', 0.008108852), ('cellular', 0.007558614), ('function', 0.0071514747)] \n",
      "\n",
      "42 [('structur', 0.051937103), ('interact', 0.03125534), ('bind', 0.021132581), ('complex', 0.013878811), ('residu', 0.01210304), ('molecul', 0.0117277065), ('domain', 0.011453247), ('bond', 0.010938869), ('form', 0.010658628), ('conform', 0.010313899)] \n",
      "\n",
      "60 [('et', 0.32194638), ('al', 0.3218096), ('studi', 0.00885456), ('also', 0.005837216), ('found', 0.004433739), ('report', 0.004019752), ('may', 0.0036188585), ('differ', 0.0036105607), ('van', 0.0035214247), ('howev', 0.0034301444)] \n",
      "\n",
      "91 [('transport', 0.046235938), ('emiss', 0.030695751), ('energi', 0.029204551), ('co', 0.02223551), ('increas', 0.017103782), ('forc', 0.01638389), ('tio', 0.01411625), ('channel', 0.013827453), ('portabl', 0.013307202), ('ir', 0.012957813)] \n",
      "\n",
      "4 [('residu', 0.047229905), ('site', 0.040244494), ('acid', 0.037930567), ('amino', 0.0288174), ('activ', 0.024526961), ('cleavag', 0.022744553), ('fig', 0.020688724), ('substrat', 0.019287009), ('domain', 0.014636346), ('enzym', 0.014122783)] \n",
      "\n"
     ]
    }
   ],
   "source": [
    "for i in new_doc_distribution.argsort()[-5:][::-1]:\n",
    "    print(i, lda.show_topic(topicid=i, topn=10), \"\\n\")"
   ]
  },
  {
   "cell_type": "markdown",
   "metadata": {},
   "source": [
    "### Similarity query"
   ]
  },
  {
   "cell_type": "code",
   "execution_count": 39,
   "metadata": {},
   "outputs": [
    {
     "data": {
      "text/plain": [
       "(9750, 100)"
      ]
     },
     "execution_count": 39,
     "metadata": {},
     "output_type": "execute_result"
    }
   ],
   "source": [
    "# we need to use nested list comprehension here\n",
    "# this may take 1-2 minutes...\n",
    "doc_topic_dist = np.array([[tup[1] for tup in lst] for lst in lda[corpus]])\n",
    "doc_topic_dist.shape"
   ]
  },
  {
   "cell_type": "code",
   "execution_count": 60,
   "metadata": {},
   "outputs": [],
   "source": [
    "def entropy_custom(pk, qk=None, base=None):\n",
    "    \"\"\"Calculate the entropy of a distribution for given probability values.\n",
    "\n",
    "    If only probabilities `pk` are given, the entropy is calculated as\n",
    "    ``S = -sum(pk * log(pk), axis=0)``.\n",
    "\n",
    "    If `qk` is not None, then compute the Kullback-Leibler divergence\n",
    "    ``S = sum(pk * log(pk / qk), axis=0)``.\n",
    "\n",
    "    This routine will normalize `pk` and `qk` if they don't sum to 1.\n",
    "\n",
    "    Parameters\n",
    "    ----------\n",
    "    pk : sequence\n",
    "        Defines the (discrete) distribution. ``pk[i]`` is the (possibly\n",
    "        unnormalized) probability of event ``i``.\n",
    "    qk : sequence, optional\n",
    "        Sequence against which the relative entropy is computed. Should be in\n",
    "        the same format as `pk`.\n",
    "    base : float, optional\n",
    "        The logarithmic base to use, defaults to ``e`` (natural logarithm).\n",
    "\n",
    "    Returns\n",
    "    -------\n",
    "    S : float\n",
    "        The calculated entropy.\n",
    "\n",
    "    \"\"\"\n",
    "    pk = np.asarray(pk)\n",
    "    pk = 1.0*pk / np.sum(pk, axis=0)\n",
    "    if qk is None:\n",
    "        vec = entr(pk)\n",
    "    else:\n",
    "        qk = np.asarray(qk)\n",
    "       \n",
    "        qk = 1.0*qk / np.sum(qk, axis=0)\n",
    "        #vec = rel_entr(pk, qk)\n",
    "        vec = kl_div(pk, qk)\n",
    "    S = np.sum(vec, axis=0)\n",
    "    if base is not None:\n",
    "        S /= log(base)\n",
    "    return S\n",
    "\n",
    "\n",
    "def jensen_shannon(query, matrix):\n",
    "    \"\"\"\n",
    "    This function implements a Jensen-Shannon similarity\n",
    "    between the input query (an LDA topic distribution for a document)\n",
    "    and the entire corpus of topic distributions.\n",
    "    It returns an array of length M where M is the number of documents in the corpus\n",
    "    \"\"\"\n",
    "    # lets keep with the p,q notation above\n",
    "    p = query[None,:].T # take transpose\n",
    "    q = matrix.T # transpose matrix\n",
    "    m = 0.5*(p + q)\n",
    "    return np.sqrt(0.5*(entropy_custom(p,m) + entropy_custom(q,m)))"
   ]
  },
  {
   "cell_type": "code",
   "execution_count": 61,
   "metadata": {},
   "outputs": [],
   "source": [
    "def get_most_similar_documents(query,matrix,k=10):\n",
    "    \"\"\"\n",
    "    This function implements the Jensen-Shannon distance above\n",
    "    and retruns the top k indices of the smallest jensen shannon distances\n",
    "    \"\"\"\n",
    "    sims = jensen_shannon(query,matrix) # list of jensen shannon distances\n",
    "    return sims.argsort()[:k] # the top k positional index of the smallest Jensen Shannon distances"
   ]
  },
  {
   "cell_type": "code",
   "execution_count": 62,
   "metadata": {},
   "outputs": [],
   "source": [
    "# this is surprisingly fast\n",
    "most_sim_ids = get_most_similar_documents(new_doc_distribution,doc_topic_dist)"
   ]
  },
  {
   "cell_type": "code",
   "execution_count": 63,
   "metadata": {},
   "outputs": [
    {
     "data": {
      "text/plain": [
       "848     Overview of Protein Structural and Functional ...\n",
       "1174    Atomistic Autophagy: The Structures of Cellula...\n",
       "1484    The RNA-binding site of poliovirus 3C protein ...\n",
       "2172    CORONAVIRUS E PROTEIN FORMS ION CHANNELS WITH ...\n",
       "3358    Lipids as modulators of membrane fusion mediat...\n",
       "3576             The three lives of viral fusion peptides\n",
       "4569    The Location of the Protonated and Unprotonate...\n",
       "7540    Nucleotide sugar transporters of the Golgi app...\n",
       "8322    Viral ion channel proteins in model membranes:...\n",
       "9441    Sialylation of N-glycans: mechanism, cellular ...\n",
       "Name: title, dtype: object"
      ]
     },
     "execution_count": 63,
     "metadata": {},
     "output_type": "execute_result"
    }
   ],
   "source": [
    "most_similar_df = train_df[train_df.index.isin(most_sim_ids)]\n",
    "most_similar_df['title']"
   ]
  },
  {
   "cell_type": "code",
   "execution_count": null,
   "metadata": {},
   "outputs": [],
   "source": []
  }
 ],
 "metadata": {
  "kernelspec": {
   "display_name": "nlp-conda-py37",
   "language": "python",
   "name": "nlp-conda-py37"
  },
  "language_info": {
   "codemirror_mode": {
    "name": "ipython",
    "version": 3
   },
   "file_extension": ".py",
   "mimetype": "text/x-python",
   "name": "python",
   "nbconvert_exporter": "python",
   "pygments_lexer": "ipython3",
   "version": "3.7.7"
  }
 },
 "nbformat": 4,
 "nbformat_minor": 4
}
